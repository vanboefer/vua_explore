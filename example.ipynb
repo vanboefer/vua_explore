{
 "cells": [
  {
   "cell_type": "code",
   "execution_count": 1,
   "metadata": {},
   "outputs": [],
   "source": [
    "import pandas as pd\n",
    "from exploration import VuaExploration"
   ]
  },
  {
   "cell_type": "markdown",
   "metadata": {},
   "source": [
    "# Load data (vua format)"
   ]
  },
  {
   "cell_type": "code",
   "execution_count": 2,
   "metadata": {},
   "outputs": [],
   "source": [
    "dav = VuaExploration.load_vua('../data/vua/davidson/allData.csv')\n",
    "gib = VuaExploration.load_vua('../data/vua/gibert/allData.csv')\n",
    "q_gab = VuaExploration.load_vua('../data/vua/qian/allData_gab.csv')\n",
    "q_red = VuaExploration.load_vua('../data/vua/qian/allData_red.csv')\n",
    "wul = VuaExploration.load_vua('../data/vua/wulczyn/allData.csv')"
   ]
  },
  {
   "cell_type": "code",
   "execution_count": 3,
   "metadata": {},
   "outputs": [],
   "source": [
    "datasets = {'dav': dav, 'gib': gib, 'q_gab': q_gab, 'q_red': q_red, 'wul': wul}"
   ]
  },
  {
   "cell_type": "code",
   "execution_count": 4,
   "metadata": {},
   "outputs": [
    {
     "data": {
      "text/html": [
       "<div>\n",
       "<style scoped>\n",
       "    .dataframe tbody tr th:only-of-type {\n",
       "        vertical-align: middle;\n",
       "    }\n",
       "\n",
       "    .dataframe tbody tr th {\n",
       "        vertical-align: top;\n",
       "    }\n",
       "\n",
       "    .dataframe thead th {\n",
       "        text-align: right;\n",
       "    }\n",
       "</style>\n",
       "<table border=\"1\" class=\"dataframe\">\n",
       "  <thead>\n",
       "    <tr style=\"text-align: right;\">\n",
       "      <th></th>\n",
       "      <th>Id</th>\n",
       "      <th>Text</th>\n",
       "      <th>Label</th>\n",
       "      <th>tokens</th>\n",
       "      <th>comment_length</th>\n",
       "    </tr>\n",
       "  </thead>\n",
       "  <tbody>\n",
       "    <tr>\n",
       "      <th>0</th>\n",
       "      <td>0</td>\n",
       "      <td>!!! RT @mayasolovely: As a woman you shouldn't...</td>\n",
       "      <td>ok</td>\n",
       "      <td>[!, !, !, rt, :, as, a, woman, you, shouldn't,...</td>\n",
       "      <td>29</td>\n",
       "    </tr>\n",
       "    <tr>\n",
       "      <th>1</th>\n",
       "      <td>1</td>\n",
       "      <td>!!!!! RT @mleew17: boy dats cold...tyga dwn ba...</td>\n",
       "      <td>offens</td>\n",
       "      <td>[!, !, !, rt, :, boy, dats, cold, ..., tyga, d...</td>\n",
       "      <td>22</td>\n",
       "    </tr>\n",
       "    <tr>\n",
       "      <th>2</th>\n",
       "      <td>2</td>\n",
       "      <td>!!!!!!! RT @UrKindOfBrand Dawg!!!! RT @80sbaby...</td>\n",
       "      <td>offens</td>\n",
       "      <td>[!, !, !, rt, dawg, !, !, !, rt, :, you, ever,...</td>\n",
       "      <td>26</td>\n",
       "    </tr>\n",
       "    <tr>\n",
       "      <th>3</th>\n",
       "      <td>3</td>\n",
       "      <td>!!!!!!!!! RT @C_G_Anderson: @viva_based she lo...</td>\n",
       "      <td>offens</td>\n",
       "      <td>[!, !, !, rt, :, she, look, like, a, tranny]</td>\n",
       "      <td>10</td>\n",
       "    </tr>\n",
       "    <tr>\n",
       "      <th>4</th>\n",
       "      <td>4</td>\n",
       "      <td>!!!!!!!!!!!!! RT @ShenikaRoberts: The shit you...</td>\n",
       "      <td>offens</td>\n",
       "      <td>[!, !, !, rt, :, the, shit, you, hear, about, ...</td>\n",
       "      <td>28</td>\n",
       "    </tr>\n",
       "  </tbody>\n",
       "</table>\n",
       "</div>"
      ],
      "text/plain": [
       "   Id                                               Text   Label  \\\n",
       "0   0  !!! RT @mayasolovely: As a woman you shouldn't...      ok   \n",
       "1   1  !!!!! RT @mleew17: boy dats cold...tyga dwn ba...  offens   \n",
       "2   2  !!!!!!! RT @UrKindOfBrand Dawg!!!! RT @80sbaby...  offens   \n",
       "3   3  !!!!!!!!! RT @C_G_Anderson: @viva_based she lo...  offens   \n",
       "4   4  !!!!!!!!!!!!! RT @ShenikaRoberts: The shit you...  offens   \n",
       "\n",
       "                                              tokens  comment_length  \n",
       "0  [!, !, !, rt, :, as, a, woman, you, shouldn't,...              29  \n",
       "1  [!, !, !, rt, :, boy, dats, cold, ..., tyga, d...              22  \n",
       "2  [!, !, !, rt, dawg, !, !, !, rt, :, you, ever,...              26  \n",
       "3       [!, !, !, rt, :, she, look, like, a, tranny]              10  \n",
       "4  [!, !, !, rt, :, the, shit, you, hear, about, ...              28  "
      ]
     },
     "execution_count": 4,
     "metadata": {},
     "output_type": "execute_result"
    }
   ],
   "source": [
    "dav.data.head()"
   ]
  },
  {
   "cell_type": "markdown",
   "metadata": {},
   "source": [
    "# Length statistics"
   ]
  },
  {
   "cell_type": "code",
   "execution_count": 5,
   "metadata": {},
   "outputs": [
    {
     "data": {
      "text/plain": [
       "count    24783.000000\n",
       "mean        15.541420\n",
       "std          7.954625\n",
       "min          1.000000\n",
       "25%          9.000000\n",
       "50%         15.000000\n",
       "75%         22.000000\n",
       "max         51.000000\n",
       "Name: comment_length, dtype: float64"
      ]
     },
     "execution_count": 5,
     "metadata": {},
     "output_type": "execute_result"
    }
   ],
   "source": [
    "# stats for one dataset\n",
    "dav.length_stats"
   ]
  },
  {
   "cell_type": "code",
   "execution_count": 6,
   "metadata": {},
   "outputs": [
    {
     "data": {
      "text/html": [
       "<div>\n",
       "<style scoped>\n",
       "    .dataframe tbody tr th:only-of-type {\n",
       "        vertical-align: middle;\n",
       "    }\n",
       "\n",
       "    .dataframe tbody tr th {\n",
       "        vertical-align: top;\n",
       "    }\n",
       "\n",
       "    .dataframe thead th {\n",
       "        text-align: right;\n",
       "    }\n",
       "</style>\n",
       "<table border=\"1\" class=\"dataframe\">\n",
       "  <thead>\n",
       "    <tr style=\"text-align: right;\">\n",
       "      <th></th>\n",
       "      <th>dav</th>\n",
       "      <th>gib</th>\n",
       "      <th>q_gab</th>\n",
       "      <th>q_red</th>\n",
       "      <th>wul</th>\n",
       "    </tr>\n",
       "  </thead>\n",
       "  <tbody>\n",
       "    <tr>\n",
       "      <th>25%</th>\n",
       "      <td>9.000000</td>\n",
       "      <td>9.000000</td>\n",
       "      <td>11.000000</td>\n",
       "      <td>12.000000</td>\n",
       "      <td>19.000000</td>\n",
       "    </tr>\n",
       "    <tr>\n",
       "      <th>50%</th>\n",
       "      <td>15.000000</td>\n",
       "      <td>16.000000</td>\n",
       "      <td>21.000000</td>\n",
       "      <td>27.000000</td>\n",
       "      <td>41.000000</td>\n",
       "    </tr>\n",
       "    <tr>\n",
       "      <th>75%</th>\n",
       "      <td>22.000000</td>\n",
       "      <td>25.000000</td>\n",
       "      <td>41.000000</td>\n",
       "      <td>60.000000</td>\n",
       "      <td>87.000000</td>\n",
       "    </tr>\n",
       "    <tr>\n",
       "      <th>count</th>\n",
       "      <td>24783.000000</td>\n",
       "      <td>10703.000000</td>\n",
       "      <td>32770.000000</td>\n",
       "      <td>22298.000000</td>\n",
       "      <td>115849.000000</td>\n",
       "    </tr>\n",
       "    <tr>\n",
       "      <th>max</th>\n",
       "      <td>51.000000</td>\n",
       "      <td>374.000000</td>\n",
       "      <td>772.000000</td>\n",
       "      <td>1684.000000</td>\n",
       "      <td>4235.000000</td>\n",
       "    </tr>\n",
       "    <tr>\n",
       "      <th>mean</th>\n",
       "      <td>15.541420</td>\n",
       "      <td>18.637578</td>\n",
       "      <td>30.453494</td>\n",
       "      <td>52.670374</td>\n",
       "      <td>83.035969</td>\n",
       "    </tr>\n",
       "    <tr>\n",
       "      <th>min</th>\n",
       "      <td>1.000000</td>\n",
       "      <td>1.000000</td>\n",
       "      <td>1.000000</td>\n",
       "      <td>1.000000</td>\n",
       "      <td>1.000000</td>\n",
       "    </tr>\n",
       "    <tr>\n",
       "      <th>std</th>\n",
       "      <td>7.954625</td>\n",
       "      <td>14.584372</td>\n",
       "      <td>38.602870</td>\n",
       "      <td>85.599035</td>\n",
       "      <td>152.718648</td>\n",
       "    </tr>\n",
       "  </tbody>\n",
       "</table>\n",
       "</div>"
      ],
      "text/plain": [
       "                dav           gib         q_gab         q_red            wul\n",
       "25%        9.000000      9.000000     11.000000     12.000000      19.000000\n",
       "50%       15.000000     16.000000     21.000000     27.000000      41.000000\n",
       "75%       22.000000     25.000000     41.000000     60.000000      87.000000\n",
       "count  24783.000000  10703.000000  32770.000000  22298.000000  115849.000000\n",
       "max       51.000000    374.000000    772.000000   1684.000000    4235.000000\n",
       "mean      15.541420     18.637578     30.453494     52.670374      83.035969\n",
       "min        1.000000      1.000000      1.000000      1.000000       1.000000\n",
       "std        7.954625     14.584372     38.602870     85.599035     152.718648"
      ]
     },
     "execution_count": 6,
     "metadata": {},
     "output_type": "execute_result"
    }
   ],
   "source": [
    "# stats for all datasets\n",
    "len_df = pd.DataFrame()\n",
    "for key in datasets:\n",
    "    s = datasets[key].length_stats\n",
    "    s.name = key\n",
    "    len_df = len_df.append(s)\n",
    "len_df.T"
   ]
  },
  {
   "cell_type": "markdown",
   "metadata": {},
   "source": [
    "# Most frequent words"
   ]
  },
  {
   "cell_type": "code",
   "execution_count": 7,
   "metadata": {},
   "outputs": [
    {
     "data": {
      "text/plain": [
       "[('bitch', 209), ('faggot', 187), ('like', 169), ('nigga', 138), ('ass', 138)]"
      ]
     },
     "execution_count": 7,
     "metadata": {},
     "output_type": "execute_result"
    }
   ],
   "source": [
    "# five most frequent words in the 'hate' class of the 'dav' dataset and their counts\n",
    "dav.get_topwords('hate', n=5)"
   ]
  },
  {
   "cell_type": "code",
   "execution_count": 8,
   "metadata": {},
   "outputs": [
    {
     "data": {
      "text/html": [
       "<div>\n",
       "<style scoped>\n",
       "    .dataframe tbody tr th:only-of-type {\n",
       "        vertical-align: middle;\n",
       "    }\n",
       "\n",
       "    .dataframe tbody tr th {\n",
       "        vertical-align: top;\n",
       "    }\n",
       "\n",
       "    .dataframe thead tr th {\n",
       "        text-align: left;\n",
       "    }\n",
       "</style>\n",
       "<table border=\"1\" class=\"dataframe\">\n",
       "  <thead>\n",
       "    <tr>\n",
       "      <th></th>\n",
       "      <th colspan=\"3\" halign=\"left\">dav</th>\n",
       "      <th colspan=\"2\" halign=\"left\">gib</th>\n",
       "      <th colspan=\"2\" halign=\"left\">q_gab</th>\n",
       "      <th colspan=\"2\" halign=\"left\">q_red</th>\n",
       "      <th colspan=\"2\" halign=\"left\">wul</th>\n",
       "    </tr>\n",
       "    <tr>\n",
       "      <th></th>\n",
       "      <th>ok</th>\n",
       "      <th>offens</th>\n",
       "      <th>hate</th>\n",
       "      <th>ok</th>\n",
       "      <th>hate</th>\n",
       "      <th>hate</th>\n",
       "      <th>ok</th>\n",
       "      <th>hate</th>\n",
       "      <th>ok</th>\n",
       "      <th>ok</th>\n",
       "      <th>hate</th>\n",
       "    </tr>\n",
       "  </thead>\n",
       "  <tbody>\n",
       "    <tr>\n",
       "      <th>0</th>\n",
       "      <td>trash</td>\n",
       "      <td>bitch</td>\n",
       "      <td>bitch</td>\n",
       "      <td>white</td>\n",
       "      <td>white</td>\n",
       "      <td>nigger</td>\n",
       "      <td>like</td>\n",
       "      <td>like</td>\n",
       "      <td>people</td>\n",
       "      <td>article</td>\n",
       "      <td>fuck</td>\n",
       "    </tr>\n",
       "    <tr>\n",
       "      <th>1</th>\n",
       "      <td>like</td>\n",
       "      <td>bitches</td>\n",
       "      <td>faggot</td>\n",
       "      <td>like</td>\n",
       "      <td>black</td>\n",
       "      <td>faggot</td>\n",
       "      <td>people</td>\n",
       "      <td>cunt</td>\n",
       "      <td>like</td>\n",
       "      <td>page</td>\n",
       "      <td>nigger</td>\n",
       "    </tr>\n",
       "    <tr>\n",
       "      <th>2</th>\n",
       "      <td>bird</td>\n",
       "      <td>😂</td>\n",
       "      <td>like</td>\n",
       "      <td>people</td>\n",
       "      <td>like</td>\n",
       "      <td>cunt</td>\n",
       "      <td>white</td>\n",
       "      <td>people</td>\n",
       "      <td>one</td>\n",
       "      <td>wikipedia</td>\n",
       "      <td>shit</td>\n",
       "    </tr>\n",
       "    <tr>\n",
       "      <th>3</th>\n",
       "      <td>charlie</td>\n",
       "      <td>hoes</td>\n",
       "      <td>nigga</td>\n",
       "      <td>one</td>\n",
       "      <td>people</td>\n",
       "      <td>like</td>\n",
       "      <td>one</td>\n",
       "      <td>retarded</td>\n",
       "      <td>get</td>\n",
       "      <td>one</td>\n",
       "      <td>suck</td>\n",
       "    </tr>\n",
       "    <tr>\n",
       "      <th>4</th>\n",
       "      <td>yellow</td>\n",
       "      <td>like</td>\n",
       "      <td>ass</td>\n",
       "      <td>youtube</td>\n",
       "      <td>whites</td>\n",
       "      <td>retarded</td>\n",
       "      <td>get</td>\n",
       "      <td>fucking</td>\n",
       "      <td>think</td>\n",
       "      <td>like</td>\n",
       "      <td>ass</td>\n",
       "    </tr>\n",
       "    <tr>\n",
       "      <th>5</th>\n",
       "      <td>birds</td>\n",
       "      <td>pussy</td>\n",
       "      <td>white</td>\n",
       "      <td>get</td>\n",
       "      <td>blacks</td>\n",
       "      <td>white</td>\n",
       "      <td>trump</td>\n",
       "      <td>get</td>\n",
       "      <td>even</td>\n",
       "      <td>please</td>\n",
       "      <td>faggot</td>\n",
       "    </tr>\n",
       "    <tr>\n",
       "      <th>6</th>\n",
       "      <td>😂</td>\n",
       "      <td>hoe</td>\n",
       "      <td>fuck</td>\n",
       "      <td>good</td>\n",
       "      <td>get</td>\n",
       "      <td>fucking</td>\n",
       "      <td>know</td>\n",
       "      <td>women</td>\n",
       "      <td>women</td>\n",
       "      <td>talk</td>\n",
       "      <td>like</td>\n",
       "    </tr>\n",
       "    <tr>\n",
       "      <th>7</th>\n",
       "      <td>lol</td>\n",
       "      <td>ass</td>\n",
       "      <td>trash</td>\n",
       "      <td>see</td>\n",
       "      <td>jews</td>\n",
       "      <td>fuck</td>\n",
       "      <td>gab</td>\n",
       "      <td>one</td>\n",
       "      <td>know</td>\n",
       "      <td>see</td>\n",
       "      <td>hate</td>\n",
       "    </tr>\n",
       "    <tr>\n",
       "      <th>8</th>\n",
       "      <td>get</td>\n",
       "      <td>fuck</td>\n",
       "      <td>nigger</td>\n",
       "      <td>black</td>\n",
       "      <td>one</td>\n",
       "      <td>people</td>\n",
       "      <td>want</td>\n",
       "      <td>even</td>\n",
       "      <td>time</td>\n",
       "      <td>think</td>\n",
       "      <td>go</td>\n",
       "    </tr>\n",
       "    <tr>\n",
       "      <th>9</th>\n",
       "      <td>★</td>\n",
       "      <td>get</td>\n",
       "      <td>fucking</td>\n",
       "      <td>know</td>\n",
       "      <td>race</td>\n",
       "      <td>retard</td>\n",
       "      <td>think</td>\n",
       "      <td>shit</td>\n",
       "      <td>right</td>\n",
       "      <td>people</td>\n",
       "      <td>wikipedia</td>\n",
       "    </tr>\n",
       "    <tr>\n",
       "      <th>10</th>\n",
       "      <td>one</td>\n",
       "      <td>shit</td>\n",
       "      <td>😂</td>\n",
       "      <td>go</td>\n",
       "      <td>see</td>\n",
       "      <td>shit</td>\n",
       "      <td>right</td>\n",
       "      <td>fuck</td>\n",
       "      <td>men</td>\n",
       "      <td>know</td>\n",
       "      <td>fat</td>\n",
       "    </tr>\n",
       "    <tr>\n",
       "      <th>11</th>\n",
       "      <td>yankees</td>\n",
       "      <td>got</td>\n",
       "      <td>fag</td>\n",
       "      <td>new</td>\n",
       "      <td>back</td>\n",
       "      <td>get</td>\n",
       "      <td>even</td>\n",
       "      <td>think</td>\n",
       "      <td>shit</td>\n",
       "      <td>edit</td>\n",
       "      <td>fucking</td>\n",
       "    </tr>\n",
       "    <tr>\n",
       "      <th>12</th>\n",
       "      <td>ghetto</td>\n",
       "      <td>nigga</td>\n",
       "      <td>niggas</td>\n",
       "      <td>time</td>\n",
       "      <td>go</td>\n",
       "      <td>jews</td>\n",
       "      <td>see</td>\n",
       "      <td>men</td>\n",
       "      <td>want</td>\n",
       "      <td>time</td>\n",
       "      <td>penis</td>\n",
       "    </tr>\n",
       "    <tr>\n",
       "      <th>13</th>\n",
       "      <td>monkey</td>\n",
       "      <td>lol</td>\n",
       "      <td>get</td>\n",
       "      <td>school</td>\n",
       "      <td>think</td>\n",
       "      <td>jew</td>\n",
       "      <td>time</td>\n",
       "      <td>know</td>\n",
       "      <td>really</td>\n",
       "      <td>articles</td>\n",
       "      <td>die</td>\n",
       "    </tr>\n",
       "    <tr>\n",
       "      <th>14</th>\n",
       "      <td>colored</td>\n",
       "      <td>niggas</td>\n",
       "      <td>shit</td>\n",
       "      <td>think</td>\n",
       "      <td>negro</td>\n",
       "      <td>one</td>\n",
       "      <td>lol</td>\n",
       "      <td>retard</td>\n",
       "      <td>make</td>\n",
       "      <td>even</td>\n",
       "      <td>gay</td>\n",
       "    </tr>\n",
       "    <tr>\n",
       "      <th>15</th>\n",
       "      <td>got</td>\n",
       "      <td>know</td>\n",
       "      <td>people</td>\n",
       "      <td>well</td>\n",
       "      <td>even</td>\n",
       "      <td>go</td>\n",
       "      <td>never</td>\n",
       "      <td>cunts</td>\n",
       "      <td>say</td>\n",
       "      <td>use</td>\n",
       "      <td>cunt</td>\n",
       "    </tr>\n",
       "    <tr>\n",
       "      <th>16</th>\n",
       "      <td>good</td>\n",
       "      <td>love</td>\n",
       "      <td>bitches</td>\n",
       "      <td>say</td>\n",
       "      <td>want</td>\n",
       "      <td>even</td>\n",
       "      <td>go</td>\n",
       "      <td>go</td>\n",
       "      <td>see</td>\n",
       "      <td>may</td>\n",
       "      <td>page</td>\n",
       "    </tr>\n",
       "    <tr>\n",
       "      <th>17</th>\n",
       "      <td>#yankees</td>\n",
       "      <td>yo</td>\n",
       "      <td>hate</td>\n",
       "      <td>back</td>\n",
       "      <td>jew</td>\n",
       "      <td>know</td>\n",
       "      <td>jews</td>\n",
       "      <td>right</td>\n",
       "      <td>way</td>\n",
       "      <td>make</td>\n",
       "      <td>know</td>\n",
       "    </tr>\n",
       "    <tr>\n",
       "      <th>18</th>\n",
       "      <td>know</td>\n",
       "      <td>one</td>\n",
       "      <td>niggers</td>\n",
       "      <td>want</td>\n",
       "      <td>country</td>\n",
       "      <td>niggers</td>\n",
       "      <td>good</td>\n",
       "      <td>time</td>\n",
       "      <td>good</td>\n",
       "      <td>good</td>\n",
       "      <td>jew</td>\n",
       "    </tr>\n",
       "    <tr>\n",
       "      <th>19</th>\n",
       "      <td>go</td>\n",
       "      <td>fucking</td>\n",
       "      <td>faggots</td>\n",
       "      <td>many</td>\n",
       "      <td>good</td>\n",
       "      <td>think</td>\n",
       "      <td>say</td>\n",
       "      <td>want</td>\n",
       "      <td>much</td>\n",
       "      <td>get</td>\n",
       "      <td>get</td>\n",
       "    </tr>\n",
       "  </tbody>\n",
       "</table>\n",
       "</div>"
      ],
      "text/plain": [
       "         dav                        gib              q_gab             q_red  \\\n",
       "          ok   offens     hate       ok     hate      hate      ok      hate   \n",
       "0      trash    bitch    bitch    white    white    nigger    like      like   \n",
       "1       like  bitches   faggot     like    black    faggot  people      cunt   \n",
       "2       bird        😂     like   people     like      cunt   white    people   \n",
       "3    charlie     hoes    nigga      one   people      like     one  retarded   \n",
       "4     yellow     like      ass  youtube   whites  retarded     get   fucking   \n",
       "5      birds    pussy    white      get   blacks     white   trump       get   \n",
       "6          😂      hoe     fuck     good      get   fucking    know     women   \n",
       "7        lol      ass    trash      see     jews      fuck     gab       one   \n",
       "8        get     fuck   nigger    black      one    people    want      even   \n",
       "9          ★      get  fucking     know     race    retard   think      shit   \n",
       "10       one     shit        😂       go      see      shit   right      fuck   \n",
       "11   yankees      got      fag      new     back       get    even     think   \n",
       "12    ghetto    nigga   niggas     time       go      jews     see       men   \n",
       "13    monkey      lol      get   school    think       jew    time      know   \n",
       "14   colored   niggas     shit    think    negro       one     lol    retard   \n",
       "15       got     know   people     well     even        go   never     cunts   \n",
       "16      good     love  bitches      say     want      even      go        go   \n",
       "17  #yankees       yo     hate     back      jew      know    jews     right   \n",
       "18      know      one  niggers     want  country   niggers    good      time   \n",
       "19        go  fucking  faggots     many     good     think     say      want   \n",
       "\n",
       "                  wul             \n",
       "        ok         ok       hate  \n",
       "0   people    article       fuck  \n",
       "1     like       page     nigger  \n",
       "2      one  wikipedia       shit  \n",
       "3      get        one       suck  \n",
       "4    think       like        ass  \n",
       "5     even     please     faggot  \n",
       "6    women       talk       like  \n",
       "7     know        see       hate  \n",
       "8     time      think         go  \n",
       "9    right     people  wikipedia  \n",
       "10     men       know        fat  \n",
       "11    shit       edit    fucking  \n",
       "12    want       time      penis  \n",
       "13  really   articles        die  \n",
       "14    make       even        gay  \n",
       "15     say        use       cunt  \n",
       "16     see        may       page  \n",
       "17     way       make       know  \n",
       "18    good       good        jew  \n",
       "19    much        get        get  "
      ]
     },
     "execution_count": 8,
     "metadata": {},
     "output_type": "execute_result"
    }
   ],
   "source": [
    "# 20 most frequent words for each class in all datasets\n",
    "freq_df = pd.DataFrame()\n",
    "for key in datasets:\n",
    "    for label in datasets[key].labels:\n",
    "        words = [item[0] for item in datasets[key].get_topwords(label)]\n",
    "        freq_df_label = pd.DataFrame(words, columns=pd.MultiIndex.from_tuples([(key, label)]))\n",
    "        if freq_df.empty:\n",
    "            freq_df = freq_df_label\n",
    "        else:\n",
    "            freq_df = freq_df.join(freq_df_label)\n",
    "freq_df"
   ]
  },
  {
   "cell_type": "markdown",
   "metadata": {},
   "source": [
    "### Words that appear across classes"
   ]
  },
  {
   "cell_type": "code",
   "execution_count": 9,
   "metadata": {},
   "outputs": [
    {
     "data": {
      "text/plain": [
       "{'get', 'like'}"
      ]
     },
     "execution_count": 9,
     "metadata": {},
     "output_type": "execute_result"
    }
   ],
   "source": [
    "# words that appear overall (in all classes of all datasets)\n",
    "set(freq_df[('dav', 'offens')]) & set(freq_df[('dav', 'hate')]) & set(freq_df[('gib', 'hate')]) & set(freq_df[('q_gab', 'hate')]) & set(freq_df[('q_red', 'hate')]) & set(freq_df[('wul', 'hate')]) & \\\n",
    "set(freq_df[('dav', 'ok')]) & set(freq_df[('gib', 'ok')]) & set(freq_df[('q_gab', 'ok')]) & set(freq_df[('q_red', 'ok')]) & set(freq_df[('wul', 'ok')])"
   ]
  },
  {
   "cell_type": "code",
   "execution_count": 10,
   "metadata": {},
   "outputs": [
    {
     "data": {
      "text/plain": [
       "{'get', 'like', '😂'}"
      ]
     },
     "execution_count": 10,
     "metadata": {},
     "output_type": "execute_result"
    }
   ],
   "source": [
    "# words shared by all classes of davidson\n",
    "set(freq_df[('dav', 'hate')]) & set(freq_df[('dav', 'ok')]) & set(freq_df[('dav', 'offens')])"
   ]
  },
  {
   "cell_type": "code",
   "execution_count": 11,
   "metadata": {},
   "outputs": [
    {
     "data": {
      "text/plain": [
       "{'back',\n",
       " 'black',\n",
       " 'get',\n",
       " 'go',\n",
       " 'good',\n",
       " 'like',\n",
       " 'one',\n",
       " 'people',\n",
       " 'see',\n",
       " 'think',\n",
       " 'want',\n",
       " 'white'}"
      ]
     },
     "execution_count": 11,
     "metadata": {},
     "output_type": "execute_result"
    }
   ],
   "source": [
    "# words shared by both classes of gibert\n",
    "set(freq_df[('gib', 'hate')]) & set(freq_df[('gib', 'ok')])"
   ]
  },
  {
   "cell_type": "code",
   "execution_count": 12,
   "metadata": {},
   "outputs": [
    {
     "data": {
      "text/plain": [
       "{'even',\n",
       " 'get',\n",
       " 'go',\n",
       " 'jews',\n",
       " 'know',\n",
       " 'like',\n",
       " 'one',\n",
       " 'people',\n",
       " 'think',\n",
       " 'white'}"
      ]
     },
     "execution_count": 12,
     "metadata": {},
     "output_type": "execute_result"
    }
   ],
   "source": [
    "# words shared by both classes of q_gab\n",
    "set(freq_df[('q_gab', 'hate')]) & set(freq_df[('q_gab', 'ok')])"
   ]
  },
  {
   "cell_type": "code",
   "execution_count": 13,
   "metadata": {},
   "outputs": [
    {
     "data": {
      "text/plain": [
       "{'even',\n",
       " 'get',\n",
       " 'know',\n",
       " 'like',\n",
       " 'men',\n",
       " 'one',\n",
       " 'people',\n",
       " 'right',\n",
       " 'shit',\n",
       " 'think',\n",
       " 'time',\n",
       " 'want',\n",
       " 'women'}"
      ]
     },
     "execution_count": 13,
     "metadata": {},
     "output_type": "execute_result"
    }
   ],
   "source": [
    "# words shared by both classes of q_red\n",
    "set(freq_df[('q_red', 'hate')]) & set(freq_df[('q_red', 'ok')])"
   ]
  },
  {
   "cell_type": "code",
   "execution_count": 14,
   "metadata": {},
   "outputs": [
    {
     "data": {
      "text/plain": [
       "{'get', 'know', 'like', 'page', 'wikipedia'}"
      ]
     },
     "execution_count": 14,
     "metadata": {},
     "output_type": "execute_result"
    }
   ],
   "source": [
    "# words shared by both classes of wulczyn\n",
    "set(freq_df[('wul', 'hate')]) & set(freq_df[('wul', 'ok')])"
   ]
  },
  {
   "cell_type": "markdown",
   "metadata": {},
   "source": [
    "### Hate words"
   ]
  },
  {
   "cell_type": "code",
   "execution_count": 15,
   "metadata": {},
   "outputs": [
    {
     "data": {
      "text/plain": [
       "{'get', 'like'}"
      ]
     },
     "execution_count": 15,
     "metadata": {},
     "output_type": "execute_result"
    }
   ],
   "source": [
    "# words in the hate class of all datasets\n",
    "set(freq_df[('dav', 'hate')]) & set(freq_df[('gib', 'hate')]) & set(freq_df[('q_gab', 'hate')]) & set(freq_df[('q_red', 'hate')]) & set(freq_df[('wul', 'hate')])"
   ]
  },
  {
   "cell_type": "code",
   "execution_count": 16,
   "metadata": {},
   "outputs": [
    {
     "data": {
      "text/plain": [
       "dav    ok        False\n",
       "       offens     True\n",
       "       hate       True\n",
       "gib    ok        False\n",
       "       hate       True\n",
       "q_gab  hate       True\n",
       "       ok        False\n",
       "q_red  hate      False\n",
       "       ok        False\n",
       "wul    ok        False\n",
       "       hate       True\n",
       "dtype: bool"
      ]
     },
     "execution_count": 16,
     "metadata": {},
     "output_type": "execute_result"
    }
   ],
   "source": [
    "n_words = ['nigga', 'niggas', 'nigger', 'niggers', 'negro', 'negros']\n",
    "freq_df.isin(n_words).any()"
   ]
  },
  {
   "cell_type": "code",
   "execution_count": 17,
   "metadata": {},
   "outputs": [
    {
     "data": {
      "text/plain": [
       "dav    ok        False\n",
       "       offens    False\n",
       "       hate       True\n",
       "gib    ok        False\n",
       "       hate      False\n",
       "q_gab  hate       True\n",
       "       ok        False\n",
       "q_red  hate      False\n",
       "       ok        False\n",
       "wul    ok        False\n",
       "       hate       True\n",
       "dtype: bool"
      ]
     },
     "execution_count": 17,
     "metadata": {},
     "output_type": "execute_result"
    }
   ],
   "source": [
    "f_words = ['faggot', 'faggots', 'fag', 'fags']\n",
    "freq_df.isin(f_words).any()"
   ]
  },
  {
   "cell_type": "code",
   "execution_count": 18,
   "metadata": {},
   "outputs": [
    {
     "data": {
      "text/plain": [
       "dav    ok        False\n",
       "       offens    False\n",
       "       hate      False\n",
       "gib    ok        False\n",
       "       hate       True\n",
       "q_gab  hate       True\n",
       "       ok         True\n",
       "q_red  hate      False\n",
       "       ok        False\n",
       "wul    ok        False\n",
       "       hate       True\n",
       "dtype: bool"
      ]
     },
     "execution_count": 18,
     "metadata": {},
     "output_type": "execute_result"
    }
   ],
   "source": [
    "j_words = ['jew', 'jews']\n",
    "freq_df.isin(j_words).any()"
   ]
  },
  {
   "cell_type": "code",
   "execution_count": 19,
   "metadata": {},
   "outputs": [
    {
     "data": {
      "text/plain": [
       "dav    ok        False\n",
       "       offens    False\n",
       "       hate       True\n",
       "gib    ok         True\n",
       "       hate       True\n",
       "q_gab  hate       True\n",
       "       ok         True\n",
       "q_red  hate      False\n",
       "       ok        False\n",
       "wul    ok        False\n",
       "       hate      False\n",
       "dtype: bool"
      ]
     },
     "execution_count": 19,
     "metadata": {},
     "output_type": "execute_result"
    }
   ],
   "source": [
    "w_words = ['white', 'whites']\n",
    "freq_df.isin(w_words).any()"
   ]
  },
  {
   "cell_type": "code",
   "execution_count": 20,
   "metadata": {},
   "outputs": [
    {
     "data": {
      "text/plain": [
       "dav    ok        False\n",
       "       offens     True\n",
       "       hate       True\n",
       "gib    ok        False\n",
       "       hate      False\n",
       "q_gab  hate       True\n",
       "       ok        False\n",
       "q_red  hate       True\n",
       "       ok        False\n",
       "wul    ok        False\n",
       "       hate       True\n",
       "dtype: bool"
      ]
     },
     "execution_count": 20,
     "metadata": {},
     "output_type": "execute_result"
    }
   ],
   "source": [
    "sexist_words = ['bitch', 'bitches', 'cunt', 'cunts', 'cunty']\n",
    "freq_df.isin(sexist_words).any()"
   ]
  },
  {
   "cell_type": "code",
   "execution_count": 21,
   "metadata": {},
   "outputs": [
    {
     "data": {
      "text/plain": [
       "dav    ok        False\n",
       "       offens    False\n",
       "       hate      False\n",
       "gib    ok        False\n",
       "       hate      False\n",
       "q_gab  hate       True\n",
       "       ok        False\n",
       "q_red  hate       True\n",
       "       ok        False\n",
       "wul    ok        False\n",
       "       hate      False\n",
       "dtype: bool"
      ]
     },
     "execution_count": 21,
     "metadata": {},
     "output_type": "execute_result"
    }
   ],
   "source": [
    "r_words = ['retarded', 'retard', 'retards']\n",
    "freq_df.isin(r_words).any()"
   ]
  },
  {
   "cell_type": "markdown",
   "metadata": {},
   "source": [
    "### Hate vs. Offens in the Davidson dataset"
   ]
  },
  {
   "cell_type": "code",
   "execution_count": 22,
   "metadata": {},
   "outputs": [
    {
     "data": {
      "text/plain": [
       "{'ass',\n",
       " 'bitch',\n",
       " 'bitches',\n",
       " 'fuck',\n",
       " 'fucking',\n",
       " 'get',\n",
       " 'like',\n",
       " 'nigga',\n",
       " 'niggas',\n",
       " 'shit',\n",
       " '😂'}"
      ]
     },
     "execution_count": 22,
     "metadata": {},
     "output_type": "execute_result"
    }
   ],
   "source": [
    "# words shared by hate and offens (but not ok)\n",
    "set(freq_df[('dav', 'hate')]) & set(freq_df[('dav', 'offens')])"
   ]
  },
  {
   "cell_type": "code",
   "execution_count": 23,
   "metadata": {},
   "outputs": [
    {
     "data": {
      "text/plain": [
       "{'got', 'hoe', 'hoes', 'know', 'lol', 'love', 'one', 'pussy', 'yo'}"
      ]
     },
     "execution_count": 23,
     "metadata": {},
     "output_type": "execute_result"
    }
   ],
   "source": [
    "# words unique to offens\n",
    "set(freq_df[('dav', 'offens')]) - set(freq_df[('dav', 'hate')])"
   ]
  },
  {
   "cell_type": "code",
   "execution_count": 24,
   "metadata": {},
   "outputs": [
    {
     "data": {
      "text/plain": [
       "{'fag',\n",
       " 'faggot',\n",
       " 'faggots',\n",
       " 'hate',\n",
       " 'nigger',\n",
       " 'niggers',\n",
       " 'people',\n",
       " 'trash',\n",
       " 'white'}"
      ]
     },
     "execution_count": 24,
     "metadata": {},
     "output_type": "execute_result"
    }
   ],
   "source": [
    "# words unique to hate\n",
    "set(freq_df[('dav', 'hate')]) - set(freq_df[('dav', 'offens')])"
   ]
  },
  {
   "cell_type": "markdown",
   "metadata": {},
   "source": [
    "# Pointwise Mutual Information"
   ]
  },
  {
   "cell_type": "code",
   "execution_count": 25,
   "metadata": {},
   "outputs": [
    {
     "data": {
      "text/plain": [
       "['niggers',\n",
       " 'faggots',\n",
       " 'fags',\n",
       " 'nigger',\n",
       " 'racist',\n",
       " 'faggot',\n",
       " 'coon',\n",
       " 'dyke',\n",
       " 'queer',\n",
       " 'fag',\n",
       " 'white']"
      ]
     },
     "execution_count": 25,
     "metadata": {},
     "output_type": "execute_result"
    }
   ],
   "source": [
    "# 10 words with the highest pmi score for the 'hate' class of the 'dav' dataset\n",
    "dav.get_top_pmi('hate')"
   ]
  },
  {
   "cell_type": "code",
   "execution_count": 26,
   "metadata": {},
   "outputs": [
    {
     "data": {
      "text/html": [
       "<div>\n",
       "<style scoped>\n",
       "    .dataframe tbody tr th:only-of-type {\n",
       "        vertical-align: middle;\n",
       "    }\n",
       "\n",
       "    .dataframe tbody tr th {\n",
       "        vertical-align: top;\n",
       "    }\n",
       "\n",
       "    .dataframe thead th {\n",
       "        text-align: right;\n",
       "    }\n",
       "</style>\n",
       "<table border=\"1\" class=\"dataframe\">\n",
       "  <thead>\n",
       "    <tr style=\"text-align: right;\">\n",
       "      <th></th>\n",
       "      <th>(dav, ok)</th>\n",
       "      <th>(dav, offens)</th>\n",
       "      <th>(dav, hate)</th>\n",
       "      <th>(gib, ok)</th>\n",
       "      <th>(gib, hate)</th>\n",
       "      <th>(q_gab, hate)</th>\n",
       "      <th>(q_gab, ok)</th>\n",
       "      <th>(q_red, hate)</th>\n",
       "      <th>(q_red, ok)</th>\n",
       "      <th>(wul, ok)</th>\n",
       "      <th>(wul, hate)</th>\n",
       "    </tr>\n",
       "  </thead>\n",
       "  <tbody>\n",
       "    <tr>\n",
       "      <th>0</th>\n",
       "      <td>#hoosiers</td>\n",
       "      <td>dats</td>\n",
       "      <td>niggers</td>\n",
       "      <td>14</td>\n",
       "      <td>scum</td>\n",
       "      <td>faggotry</td>\n",
       "      <td>prompts</td>\n",
       "      <td>faggotry</td>\n",
       "      <td>👏</td>\n",
       "      <td>implication</td>\n",
       "      <td>motherfucking</td>\n",
       "    </tr>\n",
       "    <tr>\n",
       "      <th>1</th>\n",
       "      <td>derek</td>\n",
       "      <td>faithful</td>\n",
       "      <td>faggots</td>\n",
       "      <td>active</td>\n",
       "      <td>negroes</td>\n",
       "      <td>memorize</td>\n",
       "      <td>laquan</td>\n",
       "      <td>faggot</td>\n",
       "      <td>hiv</td>\n",
       "      <td>assurance</td>\n",
       "      <td>spics</td>\n",
       "    </tr>\n",
       "    <tr>\n",
       "      <th>2</th>\n",
       "      <td>apes</td>\n",
       "      <td>foh</td>\n",
       "      <td>fags</td>\n",
       "      <td>sports</td>\n",
       "      <td>jews</td>\n",
       "      <td>bobby</td>\n",
       "      <td>post-everywhere</td>\n",
       "      <td>faggots</td>\n",
       "      <td>surrounding</td>\n",
       "      <td>cosmology</td>\n",
       "      <td>fuckhead</td>\n",
       "    </tr>\n",
       "    <tr>\n",
       "      <th>3</th>\n",
       "      <td>★</td>\n",
       "      <td>slap</td>\n",
       "      <td>nigger</td>\n",
       "      <td>12</td>\n",
       "      <td>jew</td>\n",
       "      <td>bombislam</td>\n",
       "      <td>✔</td>\n",
       "      <td>retards</td>\n",
       "      <td>mandrake</td>\n",
       "      <td>particles</td>\n",
       "      <td>gayfag</td>\n",
       "    </tr>\n",
       "    <tr>\n",
       "      <th>4</th>\n",
       "      <td>#yankees</td>\n",
       "      <td>gucci</td>\n",
       "      <td>racist</td>\n",
       "      <td>university</td>\n",
       "      <td>negro</td>\n",
       "      <td>1v1</td>\n",
       "      <td>improvements</td>\n",
       "      <td>cunty</td>\n",
       "      <td>pearce</td>\n",
       "      <td>sharon</td>\n",
       "      <td>lolooolbootstoots</td>\n",
       "    </tr>\n",
       "    <tr>\n",
       "      <th>5</th>\n",
       "      <td>massage</td>\n",
       "      <td>cum</td>\n",
       "      <td>faggot</td>\n",
       "      <td>football</td>\n",
       "      <td>africa</td>\n",
       "      <td>nigga</td>\n",
       "      <td>details</td>\n",
       "      <td>cunt</td>\n",
       "      <td>pedophilia</td>\n",
       "      <td>rabbis</td>\n",
       "      <td>chocobos</td>\n",
       "    </tr>\n",
       "    <tr>\n",
       "      <th>6</th>\n",
       "      <td>mocks</td>\n",
       "      <td>booty</td>\n",
       "      <td>coon</td>\n",
       "      <td>l</td>\n",
       "      <td>countries</td>\n",
       "      <td>fag</td>\n",
       "      <td>polygyny</td>\n",
       "      <td>cunts</td>\n",
       "      <td>intention</td>\n",
       "      <td>clergy</td>\n",
       "      <td>dickface</td>\n",
       "    </tr>\n",
       "    <tr>\n",
       "      <th>7</th>\n",
       "      <td>yankee</td>\n",
       "      <td>👐</td>\n",
       "      <td>dyke</td>\n",
       "      <td>john</td>\n",
       "      <td>blacks</td>\n",
       "      <td>niggers</td>\n",
       "      <td>∆</td>\n",
       "      <td>retard</td>\n",
       "      <td>de</td>\n",
       "      <td>orthodoxy</td>\n",
       "      <td>limped-dicked</td>\n",
       "    </tr>\n",
       "    <tr>\n",
       "      <th>8</th>\n",
       "      <td>jeter</td>\n",
       "      <td>argue</td>\n",
       "      <td>queer</td>\n",
       "      <td>early</td>\n",
       "      <td>non</td>\n",
       "      <td>nigger</td>\n",
       "      <td>#australia</td>\n",
       "      <td>niggers</td>\n",
       "      <td>milo</td>\n",
       "      <td>certification</td>\n",
       "      <td>fuckbags</td>\n",
       "    </tr>\n",
       "    <tr>\n",
       "      <th>9</th>\n",
       "      <td>sole</td>\n",
       "      <td>neva</td>\n",
       "      <td>fag</td>\n",
       "      <td>text</td>\n",
       "      <td>asians</td>\n",
       "      <td>faggot</td>\n",
       "      <td>https://TheGreatestStoryNeverTold.tv</td>\n",
       "      <td>retarded</td>\n",
       "      <td>odds</td>\n",
       "      <td>moshe</td>\n",
       "      <td>hellor</td>\n",
       "    </tr>\n",
       "  </tbody>\n",
       "</table>\n",
       "</div>"
      ],
      "text/plain": [
       "   (dav, ok) (dav, offens) (dav, hate)   (gib, ok) (gib, hate) (q_gab, hate)  \\\n",
       "0  #hoosiers          dats     niggers          14        scum      faggotry   \n",
       "1      derek      faithful     faggots      active     negroes      memorize   \n",
       "2       apes           foh        fags      sports        jews         bobby   \n",
       "3          ★          slap      nigger          12         jew     bombislam   \n",
       "4   #yankees         gucci      racist  university       negro           1v1   \n",
       "5    massage           cum      faggot    football      africa         nigga   \n",
       "6      mocks         booty        coon           l   countries           fag   \n",
       "7     yankee             👐        dyke        john      blacks       niggers   \n",
       "8      jeter         argue       queer       early         non        nigger   \n",
       "9       sole          neva         fag        text      asians        faggot   \n",
       "\n",
       "                            (q_gab, ok) (q_red, hate)  (q_red, ok)  \\\n",
       "0                               prompts      faggotry            👏   \n",
       "1                                laquan        faggot          hiv   \n",
       "2                       post-everywhere       faggots  surrounding   \n",
       "3                                     ✔       retards     mandrake   \n",
       "4                          improvements         cunty       pearce   \n",
       "5                               details          cunt   pedophilia   \n",
       "6                              polygyny         cunts    intention   \n",
       "7                                     ∆        retard           de   \n",
       "8                            #australia       niggers         milo   \n",
       "9  https://TheGreatestStoryNeverTold.tv      retarded         odds   \n",
       "\n",
       "       (wul, ok)        (wul, hate)  \n",
       "0    implication      motherfucking  \n",
       "1      assurance              spics  \n",
       "2      cosmology           fuckhead  \n",
       "3      particles             gayfag  \n",
       "4         sharon  lolooolbootstoots  \n",
       "5         rabbis           chocobos  \n",
       "6         clergy           dickface  \n",
       "7      orthodoxy      limped-dicked  \n",
       "8  certification           fuckbags  \n",
       "9          moshe             hellor  "
      ]
     },
     "execution_count": 26,
     "metadata": {},
     "output_type": "execute_result"
    }
   ],
   "source": [
    "# 10 words with the highest pmi score for each class in all datasets\n",
    "pmi_df = pd.DataFrame(index=range(10))\n",
    "for key in datasets:\n",
    "    for label in datasets[key].labels:\n",
    "        words = [item for item in datasets[key].get_top_pmi(label)]\n",
    "        pmi_df_label = pd.DataFrame(words, columns=[(key, label)])\n",
    "        pmi_df = pmi_df.join(pmi_df_label)\n",
    "pmi_df"
   ]
  },
  {
   "cell_type": "code",
   "execution_count": 27,
   "metadata": {},
   "outputs": [
    {
     "data": {
      "text/plain": [
       "(dav, ok)        False\n",
       "(dav, offens)    False\n",
       "(dav, hate)       True\n",
       "(gib, ok)        False\n",
       "(gib, hate)       True\n",
       "(q_gab, hate)     True\n",
       "(q_gab, ok)      False\n",
       "(q_red, hate)     True\n",
       "(q_red, ok)      False\n",
       "(wul, ok)        False\n",
       "(wul, hate)      False\n",
       "dtype: bool"
      ]
     },
     "execution_count": 27,
     "metadata": {},
     "output_type": "execute_result"
    }
   ],
   "source": [
    "n_words = ['nigga', 'niggas', 'nigger', 'niggers', 'negro', 'negros']\n",
    "pmi_df.isin(n_words).any()"
   ]
  },
  {
   "cell_type": "code",
   "execution_count": 28,
   "metadata": {},
   "outputs": [
    {
     "data": {
      "text/plain": [
       "(dav, ok)        False\n",
       "(dav, offens)    False\n",
       "(dav, hate)       True\n",
       "(gib, ok)        False\n",
       "(gib, hate)      False\n",
       "(q_gab, hate)     True\n",
       "(q_gab, ok)      False\n",
       "(q_red, hate)     True\n",
       "(q_red, ok)      False\n",
       "(wul, ok)        False\n",
       "(wul, hate)       True\n",
       "dtype: bool"
      ]
     },
     "execution_count": 28,
     "metadata": {},
     "output_type": "execute_result"
    }
   ],
   "source": [
    "f_words = ['faggot', 'faggots', 'fag', 'fags', 'faggotry', 'gayfag']\n",
    "pmi_df.isin(f_words).any()"
   ]
  },
  {
   "cell_type": "code",
   "execution_count": 29,
   "metadata": {},
   "outputs": [
    {
     "data": {
      "text/plain": [
       "(dav, ok)        False\n",
       "(dav, offens)    False\n",
       "(dav, hate)      False\n",
       "(gib, ok)        False\n",
       "(gib, hate)       True\n",
       "(q_gab, hate)    False\n",
       "(q_gab, ok)      False\n",
       "(q_red, hate)    False\n",
       "(q_red, ok)      False\n",
       "(wul, ok)        False\n",
       "(wul, hate)      False\n",
       "dtype: bool"
      ]
     },
     "execution_count": 29,
     "metadata": {},
     "output_type": "execute_result"
    }
   ],
   "source": [
    "j_words = ['jew', 'jews']\n",
    "pmi_df.isin(j_words).any()"
   ]
  },
  {
   "cell_type": "code",
   "execution_count": 30,
   "metadata": {},
   "outputs": [
    {
     "data": {
      "text/plain": [
       "(dav, ok)        False\n",
       "(dav, offens)    False\n",
       "(dav, hate)      False\n",
       "(gib, ok)        False\n",
       "(gib, hate)      False\n",
       "(q_gab, hate)    False\n",
       "(q_gab, ok)      False\n",
       "(q_red, hate)     True\n",
       "(q_red, ok)      False\n",
       "(wul, ok)        False\n",
       "(wul, hate)      False\n",
       "dtype: bool"
      ]
     },
     "execution_count": 30,
     "metadata": {},
     "output_type": "execute_result"
    }
   ],
   "source": [
    "sexist_words = ['bitch', 'bitches', 'cunt', 'cunts', 'cunty']\n",
    "pmi_df.isin(sexist_words).any()"
   ]
  },
  {
   "cell_type": "markdown",
   "metadata": {},
   "source": [
    "# Lexicons"
   ]
  },
  {
   "cell_type": "code",
   "execution_count": 31,
   "metadata": {},
   "outputs": [],
   "source": [
    "# load lexicons in vua format\n",
    "hatebase = pd.read_csv('../lexicons/hatebase_dict_vua_format.csv', sep=';', header=0)\n",
    "w_base = pd.read_csv('../lexicons/wiegand_base_vua_format.csv', sep=';', header=0)\n",
    "w_expand = pd.read_csv('../lexicons/wiegand_expanded_vua_format.csv', sep=';', header=0)"
   ]
  },
  {
   "cell_type": "markdown",
   "metadata": {},
   "source": [
    "## All three lexicons combined"
   ]
  },
  {
   "cell_type": "code",
   "execution_count": 32,
   "metadata": {},
   "outputs": [
    {
     "data": {
      "text/plain": [
       "3756"
      ]
     },
     "execution_count": 32,
     "metadata": {},
     "output_type": "execute_result"
    }
   ],
   "source": [
    "# combine lexicons into one set; duplicates and NaN's are removed\n",
    "# only 'hate' words are included ('True' label in w_base, positive label in w_expand)\n",
    "hateset = set(hatebase.loc[hatebase.Label == 'hate'].Entry.str.lower())\n",
    "hateset |= set(w_base.loc[w_base.Label == True].Entry.str.lower())\n",
    "hateset |= set(w_expand.loc[w_expand.Label > 0].Entry.str.lower())\n",
    "hateset = set(item for item in hateset if item == item)\n",
    "len(hateset)"
   ]
  },
  {
   "cell_type": "code",
   "execution_count": 33,
   "metadata": {},
   "outputs": [
    {
     "name": "stderr",
     "output_type": "stream",
     "text": [
      "C:\\Users\\User\\OneDrive\\current_projects_jk\\pynlp\\exploration\\exploration.py:156: UserWarning: This pattern has match groups. To actually get the groups, use str.extract.\n",
      "  case=case_sensitive,\n"
     ]
    }
   ],
   "source": [
    "# add the lexicon as attribute to the datasets\n",
    "for key in datasets:\n",
    "    setattr(datasets[key], 'lexicon', hateset)"
   ]
  },
  {
   "cell_type": "code",
   "execution_count": 34,
   "metadata": {},
   "outputs": [
    {
     "data": {
      "text/html": [
       "<div>\n",
       "<style scoped>\n",
       "    .dataframe tbody tr th:only-of-type {\n",
       "        vertical-align: middle;\n",
       "    }\n",
       "\n",
       "    .dataframe tbody tr th {\n",
       "        vertical-align: top;\n",
       "    }\n",
       "\n",
       "    .dataframe thead th {\n",
       "        text-align: right;\n",
       "    }\n",
       "</style>\n",
       "<table border=\"1\" class=\"dataframe\">\n",
       "  <thead>\n",
       "    <tr style=\"text-align: right;\">\n",
       "      <th>lex_match</th>\n",
       "      <th>False</th>\n",
       "      <th>True</th>\n",
       "      <th>Total</th>\n",
       "      <th>%True</th>\n",
       "    </tr>\n",
       "    <tr>\n",
       "      <th>Label</th>\n",
       "      <th></th>\n",
       "      <th></th>\n",
       "      <th></th>\n",
       "      <th></th>\n",
       "    </tr>\n",
       "  </thead>\n",
       "  <tbody>\n",
       "    <tr>\n",
       "      <th>hate</th>\n",
       "      <td>NaN</td>\n",
       "      <td>1430.0</td>\n",
       "      <td>1430</td>\n",
       "      <td>100.0</td>\n",
       "    </tr>\n",
       "    <tr>\n",
       "      <th>offens</th>\n",
       "      <td>1.0</td>\n",
       "      <td>19189.0</td>\n",
       "      <td>19190</td>\n",
       "      <td>100.0</td>\n",
       "    </tr>\n",
       "    <tr>\n",
       "      <th>ok</th>\n",
       "      <td>1.0</td>\n",
       "      <td>4162.0</td>\n",
       "      <td>4163</td>\n",
       "      <td>100.0</td>\n",
       "    </tr>\n",
       "    <tr>\n",
       "      <th>Total</th>\n",
       "      <td>2.0</td>\n",
       "      <td>24781.0</td>\n",
       "      <td>24783</td>\n",
       "      <td>100.0</td>\n",
       "    </tr>\n",
       "  </tbody>\n",
       "</table>\n",
       "</div>"
      ],
      "text/plain": [
       "lex_match  False     True  Total  %True\n",
       "Label                                  \n",
       "hate         NaN   1430.0   1430  100.0\n",
       "offens       1.0  19189.0  19190  100.0\n",
       "ok           1.0   4162.0   4163  100.0\n",
       "Total        2.0  24781.0  24783  100.0"
      ]
     },
     "execution_count": 34,
     "metadata": {},
     "output_type": "execute_result"
    }
   ],
   "source": [
    "# show the % of comments in each class that have at least one lexicon match\n",
    "dav.lexicon_overlap"
   ]
  },
  {
   "cell_type": "code",
   "execution_count": 35,
   "metadata": {},
   "outputs": [
    {
     "data": {
      "text/html": [
       "<div>\n",
       "<style scoped>\n",
       "    .dataframe tbody tr th:only-of-type {\n",
       "        vertical-align: middle;\n",
       "    }\n",
       "\n",
       "    .dataframe tbody tr th {\n",
       "        vertical-align: top;\n",
       "    }\n",
       "\n",
       "    .dataframe thead th {\n",
       "        text-align: right;\n",
       "    }\n",
       "</style>\n",
       "<table border=\"1\" class=\"dataframe\">\n",
       "  <thead>\n",
       "    <tr style=\"text-align: right;\">\n",
       "      <th>lex_match</th>\n",
       "      <th>False</th>\n",
       "      <th>True</th>\n",
       "      <th>Total</th>\n",
       "      <th>%True</th>\n",
       "    </tr>\n",
       "    <tr>\n",
       "      <th>Label</th>\n",
       "      <th></th>\n",
       "      <th></th>\n",
       "      <th></th>\n",
       "      <th></th>\n",
       "    </tr>\n",
       "  </thead>\n",
       "  <tbody>\n",
       "    <tr>\n",
       "      <th>hate</th>\n",
       "      <td>640</td>\n",
       "      <td>556</td>\n",
       "      <td>1196</td>\n",
       "      <td>46.5</td>\n",
       "    </tr>\n",
       "    <tr>\n",
       "      <th>ok</th>\n",
       "      <td>8018</td>\n",
       "      <td>1489</td>\n",
       "      <td>9507</td>\n",
       "      <td>15.7</td>\n",
       "    </tr>\n",
       "    <tr>\n",
       "      <th>Total</th>\n",
       "      <td>8658</td>\n",
       "      <td>2045</td>\n",
       "      <td>10703</td>\n",
       "      <td>19.1</td>\n",
       "    </tr>\n",
       "  </tbody>\n",
       "</table>\n",
       "</div>"
      ],
      "text/plain": [
       "lex_match  False  True  Total  %True\n",
       "Label                               \n",
       "hate         640   556   1196   46.5\n",
       "ok          8018  1489   9507   15.7\n",
       "Total       8658  2045  10703   19.1"
      ]
     },
     "execution_count": 35,
     "metadata": {},
     "output_type": "execute_result"
    }
   ],
   "source": [
    "gib.lexicon_overlap"
   ]
  },
  {
   "cell_type": "code",
   "execution_count": 36,
   "metadata": {},
   "outputs": [
    {
     "data": {
      "text/html": [
       "<div>\n",
       "<style scoped>\n",
       "    .dataframe tbody tr th:only-of-type {\n",
       "        vertical-align: middle;\n",
       "    }\n",
       "\n",
       "    .dataframe tbody tr th {\n",
       "        vertical-align: top;\n",
       "    }\n",
       "\n",
       "    .dataframe thead th {\n",
       "        text-align: right;\n",
       "    }\n",
       "</style>\n",
       "<table border=\"1\" class=\"dataframe\">\n",
       "  <thead>\n",
       "    <tr style=\"text-align: right;\">\n",
       "      <th>lex_match</th>\n",
       "      <th>False</th>\n",
       "      <th>True</th>\n",
       "      <th>Total</th>\n",
       "      <th>%True</th>\n",
       "    </tr>\n",
       "    <tr>\n",
       "      <th>Label</th>\n",
       "      <th></th>\n",
       "      <th></th>\n",
       "      <th></th>\n",
       "      <th></th>\n",
       "    </tr>\n",
       "  </thead>\n",
       "  <tbody>\n",
       "    <tr>\n",
       "      <th>hate</th>\n",
       "      <td>641</td>\n",
       "      <td>13963</td>\n",
       "      <td>14604</td>\n",
       "      <td>95.6</td>\n",
       "    </tr>\n",
       "    <tr>\n",
       "      <th>ok</th>\n",
       "      <td>11178</td>\n",
       "      <td>6988</td>\n",
       "      <td>18166</td>\n",
       "      <td>38.5</td>\n",
       "    </tr>\n",
       "    <tr>\n",
       "      <th>Total</th>\n",
       "      <td>11819</td>\n",
       "      <td>20951</td>\n",
       "      <td>32770</td>\n",
       "      <td>63.9</td>\n",
       "    </tr>\n",
       "  </tbody>\n",
       "</table>\n",
       "</div>"
      ],
      "text/plain": [
       "lex_match  False   True  Total  %True\n",
       "Label                                \n",
       "hate         641  13963  14604   95.6\n",
       "ok         11178   6988  18166   38.5\n",
       "Total      11819  20951  32770   63.9"
      ]
     },
     "execution_count": 36,
     "metadata": {},
     "output_type": "execute_result"
    }
   ],
   "source": [
    "q_gab.lexicon_overlap"
   ]
  },
  {
   "cell_type": "code",
   "execution_count": 37,
   "metadata": {},
   "outputs": [
    {
     "data": {
      "text/html": [
       "<div>\n",
       "<style scoped>\n",
       "    .dataframe tbody tr th:only-of-type {\n",
       "        vertical-align: middle;\n",
       "    }\n",
       "\n",
       "    .dataframe tbody tr th {\n",
       "        vertical-align: top;\n",
       "    }\n",
       "\n",
       "    .dataframe thead th {\n",
       "        text-align: right;\n",
       "    }\n",
       "</style>\n",
       "<table border=\"1\" class=\"dataframe\">\n",
       "  <thead>\n",
       "    <tr style=\"text-align: right;\">\n",
       "      <th>lex_match</th>\n",
       "      <th>False</th>\n",
       "      <th>True</th>\n",
       "      <th>Total</th>\n",
       "      <th>%True</th>\n",
       "    </tr>\n",
       "    <tr>\n",
       "      <th>Label</th>\n",
       "      <th></th>\n",
       "      <th></th>\n",
       "      <th></th>\n",
       "      <th></th>\n",
       "    </tr>\n",
       "  </thead>\n",
       "  <tbody>\n",
       "    <tr>\n",
       "      <th>hate</th>\n",
       "      <td>289</td>\n",
       "      <td>4966</td>\n",
       "      <td>5255</td>\n",
       "      <td>94.5</td>\n",
       "    </tr>\n",
       "    <tr>\n",
       "      <th>ok</th>\n",
       "      <td>9007</td>\n",
       "      <td>8036</td>\n",
       "      <td>17043</td>\n",
       "      <td>47.2</td>\n",
       "    </tr>\n",
       "    <tr>\n",
       "      <th>Total</th>\n",
       "      <td>9296</td>\n",
       "      <td>13002</td>\n",
       "      <td>22298</td>\n",
       "      <td>58.3</td>\n",
       "    </tr>\n",
       "  </tbody>\n",
       "</table>\n",
       "</div>"
      ],
      "text/plain": [
       "lex_match  False   True  Total  %True\n",
       "Label                                \n",
       "hate         289   4966   5255   94.5\n",
       "ok          9007   8036  17043   47.2\n",
       "Total       9296  13002  22298   58.3"
      ]
     },
     "execution_count": 37,
     "metadata": {},
     "output_type": "execute_result"
    }
   ],
   "source": [
    "q_red.lexicon_overlap"
   ]
  },
  {
   "cell_type": "code",
   "execution_count": 38,
   "metadata": {},
   "outputs": [
    {
     "data": {
      "text/html": [
       "<div>\n",
       "<style scoped>\n",
       "    .dataframe tbody tr th:only-of-type {\n",
       "        vertical-align: middle;\n",
       "    }\n",
       "\n",
       "    .dataframe tbody tr th {\n",
       "        vertical-align: top;\n",
       "    }\n",
       "\n",
       "    .dataframe thead th {\n",
       "        text-align: right;\n",
       "    }\n",
       "</style>\n",
       "<table border=\"1\" class=\"dataframe\">\n",
       "  <thead>\n",
       "    <tr style=\"text-align: right;\">\n",
       "      <th>lex_match</th>\n",
       "      <th>False</th>\n",
       "      <th>True</th>\n",
       "      <th>Total</th>\n",
       "      <th>%True</th>\n",
       "    </tr>\n",
       "    <tr>\n",
       "      <th>Label</th>\n",
       "      <th></th>\n",
       "      <th></th>\n",
       "      <th></th>\n",
       "      <th></th>\n",
       "    </tr>\n",
       "  </thead>\n",
       "  <tbody>\n",
       "    <tr>\n",
       "      <th>hate</th>\n",
       "      <td>3182</td>\n",
       "      <td>12395</td>\n",
       "      <td>15577</td>\n",
       "      <td>79.6</td>\n",
       "    </tr>\n",
       "    <tr>\n",
       "      <th>ok</th>\n",
       "      <td>70798</td>\n",
       "      <td>29474</td>\n",
       "      <td>100272</td>\n",
       "      <td>29.4</td>\n",
       "    </tr>\n",
       "    <tr>\n",
       "      <th>Total</th>\n",
       "      <td>73980</td>\n",
       "      <td>41869</td>\n",
       "      <td>115849</td>\n",
       "      <td>36.1</td>\n",
       "    </tr>\n",
       "  </tbody>\n",
       "</table>\n",
       "</div>"
      ],
      "text/plain": [
       "lex_match  False   True   Total  %True\n",
       "Label                                 \n",
       "hate        3182  12395   15577   79.6\n",
       "ok         70798  29474  100272   29.4\n",
       "Total      73980  41869  115849   36.1"
      ]
     },
     "execution_count": 38,
     "metadata": {},
     "output_type": "execute_result"
    }
   ],
   "source": [
    "wul.lexicon_overlap"
   ]
  },
  {
   "cell_type": "markdown",
   "metadata": {},
   "source": [
    "## Only manually-labeled lexicons"
   ]
  },
  {
   "cell_type": "code",
   "execution_count": 39,
   "metadata": {},
   "outputs": [
    {
     "data": {
      "text/plain": [
       "1463"
      ]
     },
     "execution_count": 39,
     "metadata": {},
     "output_type": "execute_result"
    }
   ],
   "source": [
    "# combine lexicons into one set; duplicates and NaN's are removed\n",
    "# only 'hate' words are included ('True' label in w_base)\n",
    "hateset = set(hatebase.loc[hatebase.Label == 'hate'].Entry.str.lower())\n",
    "hateset |= set(w_base.loc[w_base.Label == True].Entry.str.lower())\n",
    "hateset = set(item for item in hateset if item == item)\n",
    "len(hateset)"
   ]
  },
  {
   "cell_type": "code",
   "execution_count": 40,
   "metadata": {},
   "outputs": [],
   "source": [
    "# add the lexicon as attribute to the datasets\n",
    "for key in datasets:\n",
    "    setattr(datasets[key], 'lexicon', hateset)"
   ]
  },
  {
   "cell_type": "code",
   "execution_count": 41,
   "metadata": {},
   "outputs": [
    {
     "data": {
      "text/html": [
       "<div>\n",
       "<style scoped>\n",
       "    .dataframe tbody tr th:only-of-type {\n",
       "        vertical-align: middle;\n",
       "    }\n",
       "\n",
       "    .dataframe tbody tr th {\n",
       "        vertical-align: top;\n",
       "    }\n",
       "\n",
       "    .dataframe thead th {\n",
       "        text-align: right;\n",
       "    }\n",
       "</style>\n",
       "<table border=\"1\" class=\"dataframe\">\n",
       "  <thead>\n",
       "    <tr style=\"text-align: right;\">\n",
       "      <th>lex_match</th>\n",
       "      <th>False</th>\n",
       "      <th>True</th>\n",
       "      <th>Total</th>\n",
       "      <th>%True</th>\n",
       "    </tr>\n",
       "    <tr>\n",
       "      <th>Label</th>\n",
       "      <th></th>\n",
       "      <th></th>\n",
       "      <th></th>\n",
       "      <th></th>\n",
       "    </tr>\n",
       "  </thead>\n",
       "  <tbody>\n",
       "    <tr>\n",
       "      <th>hate</th>\n",
       "      <td>NaN</td>\n",
       "      <td>1430.0</td>\n",
       "      <td>1430</td>\n",
       "      <td>100.0</td>\n",
       "    </tr>\n",
       "    <tr>\n",
       "      <th>offens</th>\n",
       "      <td>1.0</td>\n",
       "      <td>19189.0</td>\n",
       "      <td>19190</td>\n",
       "      <td>100.0</td>\n",
       "    </tr>\n",
       "    <tr>\n",
       "      <th>ok</th>\n",
       "      <td>1.0</td>\n",
       "      <td>4162.0</td>\n",
       "      <td>4163</td>\n",
       "      <td>100.0</td>\n",
       "    </tr>\n",
       "    <tr>\n",
       "      <th>Total</th>\n",
       "      <td>2.0</td>\n",
       "      <td>24781.0</td>\n",
       "      <td>24783</td>\n",
       "      <td>100.0</td>\n",
       "    </tr>\n",
       "  </tbody>\n",
       "</table>\n",
       "</div>"
      ],
      "text/plain": [
       "lex_match  False     True  Total  %True\n",
       "Label                                  \n",
       "hate         NaN   1430.0   1430  100.0\n",
       "offens       1.0  19189.0  19190  100.0\n",
       "ok           1.0   4162.0   4163  100.0\n",
       "Total        2.0  24781.0  24783  100.0"
      ]
     },
     "execution_count": 41,
     "metadata": {},
     "output_type": "execute_result"
    }
   ],
   "source": [
    "# show the % of comments in each class that have at least one lexicon match\n",
    "dav.lexicon_overlap"
   ]
  },
  {
   "cell_type": "code",
   "execution_count": 42,
   "metadata": {},
   "outputs": [
    {
     "data": {
      "text/html": [
       "<div>\n",
       "<style scoped>\n",
       "    .dataframe tbody tr th:only-of-type {\n",
       "        vertical-align: middle;\n",
       "    }\n",
       "\n",
       "    .dataframe tbody tr th {\n",
       "        vertical-align: top;\n",
       "    }\n",
       "\n",
       "    .dataframe thead th {\n",
       "        text-align: right;\n",
       "    }\n",
       "</style>\n",
       "<table border=\"1\" class=\"dataframe\">\n",
       "  <thead>\n",
       "    <tr style=\"text-align: right;\">\n",
       "      <th>lex_match</th>\n",
       "      <th>False</th>\n",
       "      <th>True</th>\n",
       "      <th>Total</th>\n",
       "      <th>%True</th>\n",
       "    </tr>\n",
       "    <tr>\n",
       "      <th>Label</th>\n",
       "      <th></th>\n",
       "      <th></th>\n",
       "      <th></th>\n",
       "      <th></th>\n",
       "    </tr>\n",
       "  </thead>\n",
       "  <tbody>\n",
       "    <tr>\n",
       "      <th>hate</th>\n",
       "      <td>758</td>\n",
       "      <td>438</td>\n",
       "      <td>1196</td>\n",
       "      <td>36.6</td>\n",
       "    </tr>\n",
       "    <tr>\n",
       "      <th>ok</th>\n",
       "      <td>8680</td>\n",
       "      <td>827</td>\n",
       "      <td>9507</td>\n",
       "      <td>8.7</td>\n",
       "    </tr>\n",
       "    <tr>\n",
       "      <th>Total</th>\n",
       "      <td>9438</td>\n",
       "      <td>1265</td>\n",
       "      <td>10703</td>\n",
       "      <td>11.8</td>\n",
       "    </tr>\n",
       "  </tbody>\n",
       "</table>\n",
       "</div>"
      ],
      "text/plain": [
       "lex_match  False  True  Total  %True\n",
       "Label                               \n",
       "hate         758   438   1196   36.6\n",
       "ok          8680   827   9507    8.7\n",
       "Total       9438  1265  10703   11.8"
      ]
     },
     "execution_count": 42,
     "metadata": {},
     "output_type": "execute_result"
    }
   ],
   "source": [
    "gib.lexicon_overlap"
   ]
  },
  {
   "cell_type": "code",
   "execution_count": 43,
   "metadata": {},
   "outputs": [
    {
     "data": {
      "text/html": [
       "<div>\n",
       "<style scoped>\n",
       "    .dataframe tbody tr th:only-of-type {\n",
       "        vertical-align: middle;\n",
       "    }\n",
       "\n",
       "    .dataframe tbody tr th {\n",
       "        vertical-align: top;\n",
       "    }\n",
       "\n",
       "    .dataframe thead th {\n",
       "        text-align: right;\n",
       "    }\n",
       "</style>\n",
       "<table border=\"1\" class=\"dataframe\">\n",
       "  <thead>\n",
       "    <tr style=\"text-align: right;\">\n",
       "      <th>lex_match</th>\n",
       "      <th>False</th>\n",
       "      <th>True</th>\n",
       "      <th>Total</th>\n",
       "      <th>%True</th>\n",
       "    </tr>\n",
       "    <tr>\n",
       "      <th>Label</th>\n",
       "      <th></th>\n",
       "      <th></th>\n",
       "      <th></th>\n",
       "      <th></th>\n",
       "    </tr>\n",
       "  </thead>\n",
       "  <tbody>\n",
       "    <tr>\n",
       "      <th>hate</th>\n",
       "      <td>897</td>\n",
       "      <td>13707</td>\n",
       "      <td>14604</td>\n",
       "      <td>93.9</td>\n",
       "    </tr>\n",
       "    <tr>\n",
       "      <th>ok</th>\n",
       "      <td>13216</td>\n",
       "      <td>4950</td>\n",
       "      <td>18166</td>\n",
       "      <td>27.2</td>\n",
       "    </tr>\n",
       "    <tr>\n",
       "      <th>Total</th>\n",
       "      <td>14113</td>\n",
       "      <td>18657</td>\n",
       "      <td>32770</td>\n",
       "      <td>56.9</td>\n",
       "    </tr>\n",
       "  </tbody>\n",
       "</table>\n",
       "</div>"
      ],
      "text/plain": [
       "lex_match  False   True  Total  %True\n",
       "Label                                \n",
       "hate         897  13707  14604   93.9\n",
       "ok         13216   4950  18166   27.2\n",
       "Total      14113  18657  32770   56.9"
      ]
     },
     "execution_count": 43,
     "metadata": {},
     "output_type": "execute_result"
    }
   ],
   "source": [
    "q_gab.lexicon_overlap"
   ]
  },
  {
   "cell_type": "code",
   "execution_count": 44,
   "metadata": {},
   "outputs": [
    {
     "data": {
      "text/html": [
       "<div>\n",
       "<style scoped>\n",
       "    .dataframe tbody tr th:only-of-type {\n",
       "        vertical-align: middle;\n",
       "    }\n",
       "\n",
       "    .dataframe tbody tr th {\n",
       "        vertical-align: top;\n",
       "    }\n",
       "\n",
       "    .dataframe thead th {\n",
       "        text-align: right;\n",
       "    }\n",
       "</style>\n",
       "<table border=\"1\" class=\"dataframe\">\n",
       "  <thead>\n",
       "    <tr style=\"text-align: right;\">\n",
       "      <th>lex_match</th>\n",
       "      <th>False</th>\n",
       "      <th>True</th>\n",
       "      <th>Total</th>\n",
       "      <th>%True</th>\n",
       "    </tr>\n",
       "    <tr>\n",
       "      <th>Label</th>\n",
       "      <th></th>\n",
       "      <th></th>\n",
       "      <th></th>\n",
       "      <th></th>\n",
       "    </tr>\n",
       "  </thead>\n",
       "  <tbody>\n",
       "    <tr>\n",
       "      <th>hate</th>\n",
       "      <td>440</td>\n",
       "      <td>4815</td>\n",
       "      <td>5255</td>\n",
       "      <td>91.6</td>\n",
       "    </tr>\n",
       "    <tr>\n",
       "      <th>ok</th>\n",
       "      <td>11317</td>\n",
       "      <td>5726</td>\n",
       "      <td>17043</td>\n",
       "      <td>33.6</td>\n",
       "    </tr>\n",
       "    <tr>\n",
       "      <th>Total</th>\n",
       "      <td>11757</td>\n",
       "      <td>10541</td>\n",
       "      <td>22298</td>\n",
       "      <td>47.3</td>\n",
       "    </tr>\n",
       "  </tbody>\n",
       "</table>\n",
       "</div>"
      ],
      "text/plain": [
       "lex_match  False   True  Total  %True\n",
       "Label                                \n",
       "hate         440   4815   5255   91.6\n",
       "ok         11317   5726  17043   33.6\n",
       "Total      11757  10541  22298   47.3"
      ]
     },
     "execution_count": 44,
     "metadata": {},
     "output_type": "execute_result"
    }
   ],
   "source": [
    "q_red.lexicon_overlap"
   ]
  },
  {
   "cell_type": "code",
   "execution_count": 45,
   "metadata": {},
   "outputs": [
    {
     "data": {
      "text/html": [
       "<div>\n",
       "<style scoped>\n",
       "    .dataframe tbody tr th:only-of-type {\n",
       "        vertical-align: middle;\n",
       "    }\n",
       "\n",
       "    .dataframe tbody tr th {\n",
       "        vertical-align: top;\n",
       "    }\n",
       "\n",
       "    .dataframe thead th {\n",
       "        text-align: right;\n",
       "    }\n",
       "</style>\n",
       "<table border=\"1\" class=\"dataframe\">\n",
       "  <thead>\n",
       "    <tr style=\"text-align: right;\">\n",
       "      <th>lex_match</th>\n",
       "      <th>False</th>\n",
       "      <th>True</th>\n",
       "      <th>Total</th>\n",
       "      <th>%True</th>\n",
       "    </tr>\n",
       "    <tr>\n",
       "      <th>Label</th>\n",
       "      <th></th>\n",
       "      <th></th>\n",
       "      <th></th>\n",
       "      <th></th>\n",
       "    </tr>\n",
       "  </thead>\n",
       "  <tbody>\n",
       "    <tr>\n",
       "      <th>hate</th>\n",
       "      <td>5507</td>\n",
       "      <td>10070</td>\n",
       "      <td>15577</td>\n",
       "      <td>64.6</td>\n",
       "    </tr>\n",
       "    <tr>\n",
       "      <th>ok</th>\n",
       "      <td>84931</td>\n",
       "      <td>15341</td>\n",
       "      <td>100272</td>\n",
       "      <td>15.3</td>\n",
       "    </tr>\n",
       "    <tr>\n",
       "      <th>Total</th>\n",
       "      <td>90438</td>\n",
       "      <td>25411</td>\n",
       "      <td>115849</td>\n",
       "      <td>21.9</td>\n",
       "    </tr>\n",
       "  </tbody>\n",
       "</table>\n",
       "</div>"
      ],
      "text/plain": [
       "lex_match  False   True   Total  %True\n",
       "Label                                 \n",
       "hate        5507  10070   15577   64.6\n",
       "ok         84931  15341  100272   15.3\n",
       "Total      90438  25411  115849   21.9"
      ]
     },
     "execution_count": 45,
     "metadata": {},
     "output_type": "execute_result"
    }
   ],
   "source": [
    "wul.lexicon_overlap"
   ]
  },
  {
   "cell_type": "markdown",
   "metadata": {},
   "source": [
    "# t-SNE"
   ]
  },
  {
   "cell_type": "code",
   "execution_count": 46,
   "metadata": {},
   "outputs": [
    {
     "data": {
      "image/png": "[encoded data removed]",
      "text/plain": [
       "<Figure size 432x288 with 1 Axes>"
      ]
     },
     "metadata": {},
     "output_type": "display_data"
    }
   ],
   "source": [
    "dav.tsne_plot('dav_tsne.png')"
   ]
  },
  {
   "cell_type": "code",
   "execution_count": 47,
   "metadata": {},
   "outputs": [
    {
     "data": {
      "image/png": "[encoded data removed]",
      "text/plain": [
       "<Figure size 432x288 with 1 Axes>"
      ]
     },
     "metadata": {},
     "output_type": "display_data"
    }
   ],
   "source": [
    "gib.tsne_plot('gib_tsne.png')"
   ]
  },
  {
   "cell_type": "code",
   "execution_count": 48,
   "metadata": {},
   "outputs": [
    {
     "data": {
      "image/png": "[encoded data removed]",
      "text/plain": [
       "<Figure size 432x288 with 1 Axes>"
      ]
     },
     "metadata": {},
     "output_type": "display_data"
    }
   ],
   "source": [
    "q_gab.tsne_plot('q_gab_tsne.png')"
   ]
  },
  {
   "cell_type": "code",
   "execution_count": 49,
   "metadata": {},
   "outputs": [
    {
     "data": {
      "image/png": "[encoded data removed]",
      "text/plain": [
       "<Figure size 432x288 with 1 Axes>"
      ]
     },
     "metadata": {},
     "output_type": "display_data"
    }
   ],
   "source": [
    "q_red.tsne_plot('q_red_tsne.png')"
   ]
  },
  {
   "cell_type": "code",
   "execution_count": 50,
   "metadata": {},
   "outputs": [
    {
     "data": {
      "image/png": "[encoded data removed]",
      "text/plain": [
       "<Figure size 432x288 with 1 Axes>"
      ]
     },
     "metadata": {},
     "output_type": "display_data"
    }
   ],
   "source": [
    "wul.tsne_plot('wul_tsne.png')"
   ]
  },
  {
   "cell_type": "code",
   "execution_count": null,
   "metadata": {},
   "outputs": [],
   "source": []
  }
 ],
 "metadata": {
  "kernelspec": {
   "display_name": "explore",
   "language": "python",
   "name": "explore"
  },
  "language_info": {
   "codemirror_mode": {
    "name": "ipython",
    "version": 3
   },
   "file_extension": ".py",
   "mimetype": "text/x-python",
   "name": "python",
   "nbconvert_exporter": "python",
   "pygments_lexer": "ipython3",
   "version": "3.7.0"
  }
 },
 "nbformat": 4,
 "nbformat_minor": 4
}
